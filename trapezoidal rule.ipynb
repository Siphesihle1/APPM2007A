{
 "cells": [
  {
   "cell_type": "code",
   "execution_count": 20,
   "metadata": {},
   "outputs": [],
   "source": [
    "import numpy as np\n",
    "from math import *\n",
    "import warnings\n",
    "warnings.filterwarnings(\"ignore\")"
   ]
  },
  {
   "cell_type": "code",
   "execution_count": 21,
   "metadata": {},
   "outputs": [
    {
     "name": "stdout",
     "output_type": "stream",
     "text": [
      "Computer Inputs:\n",
      "The trapezodial method yields: 0.784241\n",
      "The true answer:               0.785398\n"
     ]
    }
   ],
   "source": [
    "#Exercise 1\n",
    "\n",
    "f = lambda x: (1 + x**2)**(-1)\n",
    "x = np.linspace(0, 1, 7) \n",
    "sums = 0.0\n",
    "arr = x[1:-1]\n",
    "for i in range(len(arr)):\n",
    "    sums += f(arr[i])\n",
    "    \n",
    "trap = lambda f, x, h: (h/2)*(f(x[0]) + 2*sums + f(x[-1]))\n",
    "print('Computer Inputs:')\n",
    "\n",
    "##Computed Inputs\n",
    "h = 1/6\n",
    "ans = trap(f, x, h)\n",
    "print('The trapezodial method yields: {:.6f}'.format(ans))\n",
    "\n",
    "## The trapezoidal method yields: 0.784241\n",
    "tans = pi/4\n",
    "print('The true answer:               {:.6f}'.format(tans))\n"
   ]
  },
  {
   "cell_type": "code",
   "execution_count": 22,
   "metadata": {},
   "outputs": [
    {
     "name": "stdout",
     "output_type": "stream",
     "text": [
      "The trapezodial method for k = 1 yields 0.823867\n",
      "The trapezodial method for k = 2 yields 0.837084\n",
      "The trapezodial method for k = 3 yields 0.840375\n",
      "The trapezodial method for k = 4 yields 0.841197\n",
      "The trapezodial method for k = 5 yields 0.841403\n",
      "The trapezodial method for k = 6 yields 0.841454\n",
      "The trapezodial method for k = 7 yields 0.841467\n",
      "The trapezodial method for k = 8 yields 0.841470\n",
      "The trapezodial method for k = 9 yields 0.841471\n",
      "The trapezodial method for k = 10 yields 0.841471\n",
      "The true answer:                         0.841471\n"
     ]
    }
   ],
   "source": [
    "#Exercise 2\n",
    "g = lambda x: cos(x)\n",
    "\n",
    "for k in range(1, 11):\n",
    "    z = np.linspace(0, 1, (2**k + 1))\n",
    "    h = 1/(2**k)\n",
    "    sums = 0.0\n",
    "    arr = z[1:-1]\n",
    "    for i in range(len(arr)):\n",
    "        sums += g(arr[i])\n",
    "    ans = trap(g, z, h)\n",
    "    print('The trapezodial method for k = {:.0f} yields {:.6f}'.format(k, ans))\n",
    "\n",
    "tans = sin(1)\n",
    "print('The true answer:                         {:.6f}'.format(tans))"
   ]
  },
  {
   "cell_type": "code",
   "execution_count": 26,
   "metadata": {},
   "outputs": [],
   "source": [
    "#trapezoidal\n",
    "def trapezoidal(g, a, b, n):\n",
    "    x = np.linspace(a, b, n + 1) \n",
    "    sums = 0.0\n",
    "    arr = x[1:-1]\n",
    "    h = (b - a)/n\n",
    "    for i in range(len(arr)):\n",
    "        sums += g(arr[i])\n",
    "    return (h/2)*(g(x[0]) + 2*sums + g(x[-1]))"
   ]
  },
  {
   "cell_type": "code",
   "execution_count": 27,
   "metadata": {},
   "outputs": [],
   "source": [
    "#midpoint\n",
    "def midpoint_method(g, a, b, n):\n",
    "    h = (b - a)/n\n",
    "    sums = 0.0\n",
    "    mid = lambda f, i: f((a + h/2) + i*h)\n",
    "    for i in range(n):\n",
    "        sums += mid(g,i)\n",
    "    return h * sums"
   ]
  },
  {
   "cell_type": "code",
   "execution_count": 28,
   "metadata": {},
   "outputs": [
    {
     "name": "stdout",
     "output_type": "stream",
     "text": [
      "n\tmidpoint\ttrapezoidal\n",
      "      2 0.8842000076332692 0.8770372606158094\n",
      "      4 0.8827889485397279 0.8806186341245393\n",
      "      8 0.8822686991994210 0.8817037913321336\n",
      "     16 0.8821288703366458 0.8819862452657772\n",
      "     32 0.8820933014203766 0.8820575578012112\n",
      "     64 0.8820843709743319 0.8820754296107942\n",
      "    128 0.8820821359746071 0.8820799002925637\n",
      "    256 0.8820815770754198 0.8820810181335849\n",
      "    512 0.8820814373412922 0.8820812976045026\n",
      "   1024 0.8820814024071774 0.8820813674728968\n",
      "   2048 0.8820813936736116 0.8820813849400392\n",
      "   4096 0.8820813914902204 0.8820813893068271\n",
      "   8192 0.8820813909443684 0.8820813903985197\n",
      "  16384 0.8820813908079066 0.8820813906714446\n",
      "  32768 0.8820813907737911 0.8820813907396778\n",
      "  65536 0.8820813907652575 0.8820813907567423\n",
      " 131072 0.8820813907631487 0.8820813907610036\n",
      " 262144 0.8820813907625702 0.8820813907620528\n",
      " 524288 0.8820813907624605 0.8820813907623183\n",
      "1048576 0.8820813907624268 0.8820813907623890\n"
     ]
    }
   ],
   "source": [
    "g = lambda y: exp(-(y**2))\n",
    "print('n\\tmidpoint\\ttrapezoidal')\n",
    "\n",
    "for i in range(1, 21):\n",
    "    n = 2**i\n",
    "    m = midpoint_method(g, 0, 2, n)\n",
    "    t = trapezoidal(g, 0, 2, n)\n",
    "    print('{:7d} {:.16f} {:.16f}'.format(n, m, t))\n",
    "    "
   ]
  },
  {
   "cell_type": "code",
   "execution_count": null,
   "metadata": {},
   "outputs": [],
   "source": []
  },
  {
   "cell_type": "code",
   "execution_count": null,
   "metadata": {},
   "outputs": [],
   "source": []
  }
 ],
 "metadata": {
  "kernelspec": {
   "display_name": "Python 3",
   "language": "python",
   "name": "python3"
  },
  "language_info": {
   "codemirror_mode": {
    "name": "ipython",
    "version": 3
   },
   "file_extension": ".py",
   "mimetype": "text/x-python",
   "name": "python",
   "nbconvert_exporter": "python",
   "pygments_lexer": "ipython3",
   "version": "3.7.4"
  }
 },
 "nbformat": 4,
 "nbformat_minor": 2
}
